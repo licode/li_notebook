{
 "cells": [
  {
   "cell_type": "code",
   "execution_count": 1,
   "metadata": {
    "collapsed": false
   },
   "outputs": [
    {
     "name": "stderr",
     "output_type": "stream",
     "text": [
      "/Users/lili/miniconda3/envs/analysis3/lib/python3.5/site-packages/sklearn/cross_validation.py:44: DeprecationWarning: This module was deprecated in version 0.18 in favor of the model_selection module into which all the refactored classes and functions are moved. Also note that the interface of the new CV iterators are different from that of this module. This module will be removed in 0.20.\n",
      "  \"This module will be removed in 0.20.\", DeprecationWarning)\n"
     ]
    }
   ],
   "source": [
    "%matplotlib inline\n",
    "import pandas as pd\n",
    "import numpy as np\n",
    "\n",
    "import matplotlib.pyplot as plt\n",
    "\n",
    "from sklearn.preprocessing import scale\n",
    "from sklearn.decomposition import PCA\n",
    "from sklearn import cross_validation\n",
    "#from sklearn.linear_model import LinearRegression\n",
    "\n",
    "from sklearn import linear_model, decomposition\n",
    "from sklearn.pipeline import Pipeline\n",
    "from sklearn.model_selection import GridSearchCV"
   ]
  },
  {
   "cell_type": "code",
   "execution_count": 2,
   "metadata": {
    "collapsed": true
   },
   "outputs": [],
   "source": [
    "# modify time to \n",
    "def my_reducer(a):\n",
    "    return pd.to_datetime(a[0])\n",
    "\n",
    "reducer = np.vectorize(my_reducer)"
   ]
  },
  {
   "cell_type": "code",
   "execution_count": 3,
   "metadata": {
    "collapsed": false
   },
   "outputs": [],
   "source": [
    "spy0 = pd.read_csv('/Users/lili/Research/Study_materials/Finance/spy/spy.csv', \n",
    "                      header=0, sep=' ')\n",
    "spy_design0 = pd.read_csv('/Users/lili/Research/Study_materials/Finance/spy/spy_design.csv', \n",
    "                         header=0, sep=' ',  parse_dates=True)\n",
    "\n",
    "spy_indices = spy0.index.values\n",
    "spy_design_indices = spy_design0.index.values\n",
    "\n",
    "spy_indexes = reducer(spy_indices)\n",
    "spy0['TIME'] = spy_indexes\n",
    "\n",
    "spy_design_indexes = reducer(spy_design_indices)\n",
    "spy_design0['TIME'] = spy_design_indexes\n",
    "\n",
    "spy0 = spy0.set_index('TIME')\n",
    "spy_design0 = spy_design0.set_index('TIME')"
   ]
  },
  {
   "cell_type": "code",
   "execution_count": 4,
   "metadata": {
    "collapsed": false
   },
   "outputs": [
    {
     "data": {
      "text/html": [
       "<div>\n",
       "<table border=\"1\" class=\"dataframe\">\n",
       "  <thead>\n",
       "    <tr style=\"text-align: right;\">\n",
       "      <th></th>\n",
       "      <th>Index</th>\n",
       "      <th>returns</th>\n",
       "      <th>returns.WA5</th>\n",
       "      <th>variance</th>\n",
       "      <th>skew</th>\n",
       "      <th>hurst</th>\n",
       "      <th>rets_var</th>\n",
       "      <th>rets_skew</th>\n",
       "    </tr>\n",
       "    <tr>\n",
       "      <th>TIME</th>\n",
       "      <th></th>\n",
       "      <th></th>\n",
       "      <th></th>\n",
       "      <th></th>\n",
       "      <th></th>\n",
       "      <th></th>\n",
       "      <th></th>\n",
       "      <th></th>\n",
       "    </tr>\n",
       "  </thead>\n",
       "  <tbody>\n",
       "    <tr>\n",
       "      <th>2008-01-02 09:31:00</th>\n",
       "      <td>09:31:00</td>\n",
       "      <td>0.000000</td>\n",
       "      <td>0.000000</td>\n",
       "      <td>0.000000</td>\n",
       "      <td>0.000000</td>\n",
       "      <td>0.000000</td>\n",
       "      <td>0.000000</td>\n",
       "      <td>0.000000</td>\n",
       "    </tr>\n",
       "    <tr>\n",
       "      <th>2008-01-02 09:32:00</th>\n",
       "      <td>09:32:00</td>\n",
       "      <td>0.707107</td>\n",
       "      <td>0.707107</td>\n",
       "      <td>0.707107</td>\n",
       "      <td>-0.707107</td>\n",
       "      <td>0.000000</td>\n",
       "      <td>0.707107</td>\n",
       "      <td>-0.707107</td>\n",
       "    </tr>\n",
       "    <tr>\n",
       "      <th>2008-01-02 09:33:00</th>\n",
       "      <td>09:33:00</td>\n",
       "      <td>1.034910</td>\n",
       "      <td>1.031794</td>\n",
       "      <td>1.027297</td>\n",
       "      <td>-0.901304</td>\n",
       "      <td>0.000000</td>\n",
       "      <td>1.133169</td>\n",
       "      <td>-1.111012</td>\n",
       "    </tr>\n",
       "    <tr>\n",
       "      <th>2008-01-02 09:34:00</th>\n",
       "      <td>09:34:00</td>\n",
       "      <td>-1.177622</td>\n",
       "      <td>-0.712844</td>\n",
       "      <td>1.407897</td>\n",
       "      <td>1.277819</td>\n",
       "      <td>0.000000</td>\n",
       "      <td>-1.366479</td>\n",
       "      <td>-0.030410</td>\n",
       "    </tr>\n",
       "    <tr>\n",
       "      <th>2008-01-02 09:35:00</th>\n",
       "      <td>09:35:00</td>\n",
       "      <td>0.451147</td>\n",
       "      <td>-0.181499</td>\n",
       "      <td>0.593341</td>\n",
       "      <td>-1.669053</td>\n",
       "      <td>-1.788854</td>\n",
       "      <td>0.854902</td>\n",
       "      <td>-1.641664</td>\n",
       "    </tr>\n",
       "  </tbody>\n",
       "</table>\n",
       "</div>"
      ],
      "text/plain": [
       "                        Index   returns  returns.WA5  variance      skew  \\\n",
       "TIME                                                                       \n",
       "2008-01-02 09:31:00  09:31:00  0.000000     0.000000  0.000000  0.000000   \n",
       "2008-01-02 09:32:00  09:32:00  0.707107     0.707107  0.707107 -0.707107   \n",
       "2008-01-02 09:33:00  09:33:00  1.034910     1.031794  1.027297 -0.901304   \n",
       "2008-01-02 09:34:00  09:34:00 -1.177622    -0.712844  1.407897  1.277819   \n",
       "2008-01-02 09:35:00  09:35:00  0.451147    -0.181499  0.593341 -1.669053   \n",
       "\n",
       "                        hurst  rets_var  rets_skew  \n",
       "TIME                                                \n",
       "2008-01-02 09:31:00  0.000000  0.000000   0.000000  \n",
       "2008-01-02 09:32:00  0.000000  0.707107  -0.707107  \n",
       "2008-01-02 09:33:00  0.000000  1.133169  -1.111012  \n",
       "2008-01-02 09:34:00  0.000000 -1.366479  -0.030410  \n",
       "2008-01-02 09:35:00 -1.788854  0.854902  -1.641664  "
      ]
     },
     "execution_count": 4,
     "metadata": {},
     "output_type": "execute_result"
    }
   ],
   "source": [
    "# how to calculate those values?\n",
    "spy_design0.head()"
   ]
  },
  {
   "cell_type": "code",
   "execution_count": 5,
   "metadata": {
    "collapsed": false
   },
   "outputs": [
    {
     "data": {
      "text/html": [
       "<div>\n",
       "<table border=\"1\" class=\"dataframe\">\n",
       "  <thead>\n",
       "    <tr style=\"text-align: right;\">\n",
       "      <th></th>\n",
       "      <th>Index</th>\n",
       "      <th>SPY.Open</th>\n",
       "      <th>SPY.High</th>\n",
       "      <th>SPY.Low</th>\n",
       "      <th>SPY.Close</th>\n",
       "      <th>SPY.Volume</th>\n",
       "    </tr>\n",
       "    <tr>\n",
       "      <th>TIME</th>\n",
       "      <th></th>\n",
       "      <th></th>\n",
       "      <th></th>\n",
       "      <th></th>\n",
       "      <th></th>\n",
       "      <th></th>\n",
       "    </tr>\n",
       "  </thead>\n",
       "  <tbody>\n",
       "    <tr>\n",
       "      <th>2008-01-02 09:31:00</th>\n",
       "      <td>09:31:00</td>\n",
       "      <td>146.535</td>\n",
       "      <td>146.645</td>\n",
       "      <td>146.535</td>\n",
       "      <td>146.645</td>\n",
       "      <td>591203.0</td>\n",
       "    </tr>\n",
       "    <tr>\n",
       "      <th>2008-01-02 09:32:00</th>\n",
       "      <td>09:32:00</td>\n",
       "      <td>146.645</td>\n",
       "      <td>146.685</td>\n",
       "      <td>146.635</td>\n",
       "      <td>146.685</td>\n",
       "      <td>385457.0</td>\n",
       "    </tr>\n",
       "    <tr>\n",
       "      <th>2008-01-02 09:33:00</th>\n",
       "      <td>09:33:00</td>\n",
       "      <td>146.685</td>\n",
       "      <td>146.775</td>\n",
       "      <td>146.680</td>\n",
       "      <td>146.775</td>\n",
       "      <td>343700.0</td>\n",
       "    </tr>\n",
       "    <tr>\n",
       "      <th>2008-01-02 09:34:00</th>\n",
       "      <td>09:34:00</td>\n",
       "      <td>146.725</td>\n",
       "      <td>146.755</td>\n",
       "      <td>146.705</td>\n",
       "      <td>146.725</td>\n",
       "      <td>863418.0</td>\n",
       "    </tr>\n",
       "    <tr>\n",
       "      <th>2008-01-02 09:35:00</th>\n",
       "      <td>09:35:00</td>\n",
       "      <td>146.705</td>\n",
       "      <td>146.775</td>\n",
       "      <td>146.685</td>\n",
       "      <td>146.775</td>\n",
       "      <td>457500.0</td>\n",
       "    </tr>\n",
       "  </tbody>\n",
       "</table>\n",
       "</div>"
      ],
      "text/plain": [
       "                        Index  SPY.Open  SPY.High  SPY.Low  SPY.Close  \\\n",
       "TIME                                                                    \n",
       "2008-01-02 09:31:00  09:31:00   146.535   146.645  146.535    146.645   \n",
       "2008-01-02 09:32:00  09:32:00   146.645   146.685  146.635    146.685   \n",
       "2008-01-02 09:33:00  09:33:00   146.685   146.775  146.680    146.775   \n",
       "2008-01-02 09:34:00  09:34:00   146.725   146.755  146.705    146.725   \n",
       "2008-01-02 09:35:00  09:35:00   146.705   146.775  146.685    146.775   \n",
       "\n",
       "                     SPY.Volume  \n",
       "TIME                             \n",
       "2008-01-02 09:31:00    591203.0  \n",
       "2008-01-02 09:32:00    385457.0  \n",
       "2008-01-02 09:33:00    343700.0  \n",
       "2008-01-02 09:34:00    863418.0  \n",
       "2008-01-02 09:35:00    457500.0  "
      ]
     },
     "execution_count": 5,
     "metadata": {},
     "output_type": "execute_result"
    }
   ],
   "source": [
    "spy0.head()"
   ]
  },
  {
   "cell_type": "code",
   "execution_count": 6,
   "metadata": {
    "collapsed": false
   },
   "outputs": [
    {
     "data": {
      "text/html": [
       "<div>\n",
       "<table border=\"1\" class=\"dataframe\">\n",
       "  <thead>\n",
       "    <tr style=\"text-align: right;\">\n",
       "      <th></th>\n",
       "      <th>SPY.Open</th>\n",
       "      <th>SPY.High</th>\n",
       "      <th>SPY.Low</th>\n",
       "      <th>SPY.Close</th>\n",
       "      <th>SPY.Volume</th>\n",
       "    </tr>\n",
       "    <tr>\n",
       "      <th>TIME</th>\n",
       "      <th></th>\n",
       "      <th></th>\n",
       "      <th></th>\n",
       "      <th></th>\n",
       "      <th></th>\n",
       "    </tr>\n",
       "  </thead>\n",
       "  <tbody>\n",
       "    <tr>\n",
       "      <th>2008-01-02 09:31:00</th>\n",
       "      <td>146.535</td>\n",
       "      <td>146.645</td>\n",
       "      <td>146.535</td>\n",
       "      <td>146.645</td>\n",
       "      <td>591203.0</td>\n",
       "    </tr>\n",
       "    <tr>\n",
       "      <th>2008-01-02 09:32:00</th>\n",
       "      <td>146.645</td>\n",
       "      <td>146.685</td>\n",
       "      <td>146.635</td>\n",
       "      <td>146.685</td>\n",
       "      <td>385457.0</td>\n",
       "    </tr>\n",
       "    <tr>\n",
       "      <th>2008-01-02 09:33:00</th>\n",
       "      <td>146.685</td>\n",
       "      <td>146.775</td>\n",
       "      <td>146.680</td>\n",
       "      <td>146.775</td>\n",
       "      <td>343700.0</td>\n",
       "    </tr>\n",
       "    <tr>\n",
       "      <th>2008-01-02 09:34:00</th>\n",
       "      <td>146.725</td>\n",
       "      <td>146.755</td>\n",
       "      <td>146.705</td>\n",
       "      <td>146.725</td>\n",
       "      <td>863418.0</td>\n",
       "    </tr>\n",
       "    <tr>\n",
       "      <th>2008-01-02 09:35:00</th>\n",
       "      <td>146.705</td>\n",
       "      <td>146.775</td>\n",
       "      <td>146.685</td>\n",
       "      <td>146.775</td>\n",
       "      <td>457500.0</td>\n",
       "    </tr>\n",
       "  </tbody>\n",
       "</table>\n",
       "</div>"
      ],
      "text/plain": [
       "                     SPY.Open  SPY.High  SPY.Low  SPY.Close  SPY.Volume\n",
       "TIME                                                                   \n",
       "2008-01-02 09:31:00   146.535   146.645  146.535    146.645    591203.0\n",
       "2008-01-02 09:32:00   146.645   146.685  146.635    146.685    385457.0\n",
       "2008-01-02 09:33:00   146.685   146.775  146.680    146.775    343700.0\n",
       "2008-01-02 09:34:00   146.725   146.755  146.705    146.725    863418.0\n",
       "2008-01-02 09:35:00   146.705   146.775  146.685    146.775    457500.0"
      ]
     },
     "execution_count": 6,
     "metadata": {},
     "output_type": "execute_result"
    }
   ],
   "source": [
    "# remove column called index\n",
    "spy = spy0.ix[:, 1:6]\n",
    "spy.head()"
   ]
  },
  {
   "cell_type": "code",
   "execution_count": 7,
   "metadata": {
    "collapsed": false
   },
   "outputs": [
    {
     "data": {
      "text/html": [
       "<div>\n",
       "<table border=\"1\" class=\"dataframe\">\n",
       "  <thead>\n",
       "    <tr style=\"text-align: right;\">\n",
       "      <th></th>\n",
       "      <th>returns</th>\n",
       "      <th>returns.WA5</th>\n",
       "      <th>variance</th>\n",
       "      <th>skew</th>\n",
       "      <th>hurst</th>\n",
       "      <th>rets_var</th>\n",
       "      <th>rets_skew</th>\n",
       "    </tr>\n",
       "    <tr>\n",
       "      <th>TIME</th>\n",
       "      <th></th>\n",
       "      <th></th>\n",
       "      <th></th>\n",
       "      <th></th>\n",
       "      <th></th>\n",
       "      <th></th>\n",
       "      <th></th>\n",
       "    </tr>\n",
       "  </thead>\n",
       "  <tbody>\n",
       "    <tr>\n",
       "      <th>2008-01-02 09:31:00</th>\n",
       "      <td>0.000000</td>\n",
       "      <td>0.000000</td>\n",
       "      <td>0.000000</td>\n",
       "      <td>0.000000</td>\n",
       "      <td>0.000000</td>\n",
       "      <td>0.000000</td>\n",
       "      <td>0.000000</td>\n",
       "    </tr>\n",
       "    <tr>\n",
       "      <th>2008-01-02 09:32:00</th>\n",
       "      <td>0.707107</td>\n",
       "      <td>0.707107</td>\n",
       "      <td>0.707107</td>\n",
       "      <td>-0.707107</td>\n",
       "      <td>0.000000</td>\n",
       "      <td>0.707107</td>\n",
       "      <td>-0.707107</td>\n",
       "    </tr>\n",
       "    <tr>\n",
       "      <th>2008-01-02 09:33:00</th>\n",
       "      <td>1.034910</td>\n",
       "      <td>1.031794</td>\n",
       "      <td>1.027297</td>\n",
       "      <td>-0.901304</td>\n",
       "      <td>0.000000</td>\n",
       "      <td>1.133169</td>\n",
       "      <td>-1.111012</td>\n",
       "    </tr>\n",
       "    <tr>\n",
       "      <th>2008-01-02 09:34:00</th>\n",
       "      <td>-1.177622</td>\n",
       "      <td>-0.712844</td>\n",
       "      <td>1.407897</td>\n",
       "      <td>1.277819</td>\n",
       "      <td>0.000000</td>\n",
       "      <td>-1.366479</td>\n",
       "      <td>-0.030410</td>\n",
       "    </tr>\n",
       "    <tr>\n",
       "      <th>2008-01-02 09:35:00</th>\n",
       "      <td>0.451147</td>\n",
       "      <td>-0.181499</td>\n",
       "      <td>0.593341</td>\n",
       "      <td>-1.669053</td>\n",
       "      <td>-1.788854</td>\n",
       "      <td>0.854902</td>\n",
       "      <td>-1.641664</td>\n",
       "    </tr>\n",
       "  </tbody>\n",
       "</table>\n",
       "</div>"
      ],
      "text/plain": [
       "                      returns  returns.WA5  variance      skew     hurst  \\\n",
       "TIME                                                                       \n",
       "2008-01-02 09:31:00  0.000000     0.000000  0.000000  0.000000  0.000000   \n",
       "2008-01-02 09:32:00  0.707107     0.707107  0.707107 -0.707107  0.000000   \n",
       "2008-01-02 09:33:00  1.034910     1.031794  1.027297 -0.901304  0.000000   \n",
       "2008-01-02 09:34:00 -1.177622    -0.712844  1.407897  1.277819  0.000000   \n",
       "2008-01-02 09:35:00  0.451147    -0.181499  0.593341 -1.669053 -1.788854   \n",
       "\n",
       "                     rets_var  rets_skew  \n",
       "TIME                                      \n",
       "2008-01-02 09:31:00  0.000000   0.000000  \n",
       "2008-01-02 09:32:00  0.707107  -0.707107  \n",
       "2008-01-02 09:33:00  1.133169  -1.111012  \n",
       "2008-01-02 09:34:00 -1.366479  -0.030410  \n",
       "2008-01-02 09:35:00  0.854902  -1.641664  "
      ]
     },
     "execution_count": 7,
     "metadata": {},
     "output_type": "execute_result"
    }
   ],
   "source": [
    "# remove column called index\n",
    "spy_design = spy_design0.ix[:, 1:8]\n",
    "spy_design.head()"
   ]
  },
  {
   "cell_type": "code",
   "execution_count": 29,
   "metadata": {
    "collapsed": false
   },
   "outputs": [],
   "source": [
    "# the difference is calculated based on SPY.High  ???\n",
    "\n",
    "def diff_xts(x_ts, lag=1, differences=1, arithmetic=True):\n",
    "    # Uses something along the lines of numpy.diff for lag\n",
    "    \"\"\"\n",
    "    Parameters\n",
    "    ----------\n",
    "    x_ts: pd.DataFrame\n",
    "        Raw data\n",
    "    lag: int\n",
    "        period to difference over\n",
    "    differences: int\n",
    "        order of differencing\n",
    "    arithmetic: bool\n",
    "        should arithmetic or geometric differencing be used\n",
    "    \"\"\"\n",
    "    if lag != 1:\n",
    "        raise NotImplementedError('Period other than 1 has not beein implemented yet')\n",
    "    res = np.zeros(x_ts.shape[0])\n",
    "    \n",
    "    # choose which value to use here, not only SPY.HIGH ???\n",
    "    res[1:] = np.diff(x_ts.ix[:,3]-x_ts.ix[:,0])    # close - open for next day\n",
    "    return  res# vectorized diff over given period\n"
   ]
  },
  {
   "cell_type": "code",
   "execution_count": 30,
   "metadata": {
    "collapsed": true
   },
   "outputs": [],
   "source": [
    "def run_returns(x_ts, col_umn=5):\n",
    "    if len(x_ts.columns) == 7:\n",
    "        re_turns = 0.5 * (x_ts[:][\"Bid.Price\"] + x_ts[:][\"Ask.Price\"])\n",
    "    else:\n",
    "        re_turns = x_ts[x_ts.columns[::col_umn]]\n",
    "    ind_diff = np.ones(x_ts.shape[0])    \n",
    "    ind_diff[1:] = np.multiply(np.diff(x_ts.index.values), 10e-10)\n",
    "    x_ts['returns'] = 86400 * diff_xts(re_turns) / ind_diff\n",
    "    return x_ts\n",
    "\n",
    "#  x_ts['returns'] = 86400 * diff_xts(re_turns) / ind_diff   ???\n"
   ]
  },
  {
   "cell_type": "code",
   "execution_count": 31,
   "metadata": {
    "collapsed": true
   },
   "outputs": [],
   "source": [
    "def get_returns(x_ts):\n",
    "    x_ts['returns'] = diff_xts(x_ts)\n",
    "    return x_ts"
   ]
  },
  {
   "cell_type": "code",
   "execution_count": 32,
   "metadata": {
    "collapsed": false
   },
   "outputs": [],
   "source": [
    "returns_running = get_returns(spy)['returns']"
   ]
  },
  {
   "cell_type": "code",
   "execution_count": 33,
   "metadata": {
    "collapsed": false
   },
   "outputs": [
    {
     "data": {
      "text/html": [
       "<div>\n",
       "<table border=\"1\" class=\"dataframe\">\n",
       "  <thead>\n",
       "    <tr style=\"text-align: right;\">\n",
       "      <th></th>\n",
       "      <th>SPY.Open</th>\n",
       "      <th>SPY.High</th>\n",
       "      <th>SPY.Low</th>\n",
       "      <th>SPY.Close</th>\n",
       "      <th>SPY.Volume</th>\n",
       "      <th>returns</th>\n",
       "    </tr>\n",
       "    <tr>\n",
       "      <th>TIME</th>\n",
       "      <th></th>\n",
       "      <th></th>\n",
       "      <th></th>\n",
       "      <th></th>\n",
       "      <th></th>\n",
       "      <th></th>\n",
       "    </tr>\n",
       "  </thead>\n",
       "  <tbody>\n",
       "    <tr>\n",
       "      <th>2008-01-02 09:31:00</th>\n",
       "      <td>146.535</td>\n",
       "      <td>146.645</td>\n",
       "      <td>146.535</td>\n",
       "      <td>146.645</td>\n",
       "      <td>591203.0</td>\n",
       "      <td>0.00</td>\n",
       "    </tr>\n",
       "    <tr>\n",
       "      <th>2008-01-02 09:32:00</th>\n",
       "      <td>146.645</td>\n",
       "      <td>146.685</td>\n",
       "      <td>146.635</td>\n",
       "      <td>146.685</td>\n",
       "      <td>385457.0</td>\n",
       "      <td>-0.07</td>\n",
       "    </tr>\n",
       "    <tr>\n",
       "      <th>2008-01-02 09:33:00</th>\n",
       "      <td>146.685</td>\n",
       "      <td>146.775</td>\n",
       "      <td>146.680</td>\n",
       "      <td>146.775</td>\n",
       "      <td>343700.0</td>\n",
       "      <td>0.05</td>\n",
       "    </tr>\n",
       "    <tr>\n",
       "      <th>2008-01-02 09:34:00</th>\n",
       "      <td>146.725</td>\n",
       "      <td>146.755</td>\n",
       "      <td>146.705</td>\n",
       "      <td>146.725</td>\n",
       "      <td>863418.0</td>\n",
       "      <td>-0.09</td>\n",
       "    </tr>\n",
       "    <tr>\n",
       "      <th>2008-01-02 09:35:00</th>\n",
       "      <td>146.705</td>\n",
       "      <td>146.775</td>\n",
       "      <td>146.685</td>\n",
       "      <td>146.775</td>\n",
       "      <td>457500.0</td>\n",
       "      <td>0.07</td>\n",
       "    </tr>\n",
       "  </tbody>\n",
       "</table>\n",
       "</div>"
      ],
      "text/plain": [
       "                     SPY.Open  SPY.High  SPY.Low  SPY.Close  SPY.Volume  \\\n",
       "TIME                                                                      \n",
       "2008-01-02 09:31:00   146.535   146.645  146.535    146.645    591203.0   \n",
       "2008-01-02 09:32:00   146.645   146.685  146.635    146.685    385457.0   \n",
       "2008-01-02 09:33:00   146.685   146.775  146.680    146.775    343700.0   \n",
       "2008-01-02 09:34:00   146.725   146.755  146.705    146.725    863418.0   \n",
       "2008-01-02 09:35:00   146.705   146.775  146.685    146.775    457500.0   \n",
       "\n",
       "                     returns  \n",
       "TIME                          \n",
       "2008-01-02 09:31:00     0.00  \n",
       "2008-01-02 09:32:00    -0.07  \n",
       "2008-01-02 09:33:00     0.05  \n",
       "2008-01-02 09:34:00    -0.09  \n",
       "2008-01-02 09:35:00     0.07  "
      ]
     },
     "execution_count": 33,
     "metadata": {},
     "output_type": "execute_result"
    }
   ],
   "source": [
    "spy.head()\n",
    "#spy.ix[:,3]"
   ]
  },
  {
   "cell_type": "code",
   "execution_count": 34,
   "metadata": {
    "collapsed": true
   },
   "outputs": [],
   "source": [
    "def lag_xts(x_ts, k=-1, **kwargs):\n",
    "    \"\"\"shift data\"\"\"\n",
    "    n_rows = x_ts.shape[0]\n",
    "    fir_st = x_ts[0]\n",
    "    la_st = x_ts[n_rows-1]\n",
    "    x_ts = x_ts.shift(periods=k, **kwargs)\n",
    "    if (k > 0):\n",
    "        print(fir_st)\n",
    "        x_ts[0:k] = fir_st\n",
    "    else:\n",
    "        x_ts[n_rows-1] = la_st\n",
    "    return x_ts"
   ]
  },
  {
   "cell_type": "code",
   "execution_count": 35,
   "metadata": {
    "collapsed": false
   },
   "outputs": [
    {
     "data": {
      "text/plain": [
       "TIME\n",
       "2008-01-02 09:31:00   -0.07\n",
       "2008-01-02 09:32:00    0.05\n",
       "2008-01-02 09:33:00   -0.09\n",
       "2008-01-02 09:34:00    0.07\n",
       "2008-01-02 09:35:00   -0.11\n",
       "Name: returns_advanced, dtype: float64"
      ]
     },
     "execution_count": 35,
     "metadata": {},
     "output_type": "execute_result"
    }
   ],
   "source": [
    "returns_advanced = lag_xts(returns_running)  # shift data by 1 step\n",
    "returns_advanced.name = 'returns_advanced'\n",
    "returns_advanced.head()"
   ]
  },
  {
   "cell_type": "code",
   "execution_count": 36,
   "metadata": {
    "collapsed": false
   },
   "outputs": [],
   "source": [
    "# define x and y\n",
    "train_start = '2011-01-02'\n",
    "train_end = '2011-08-31'\n",
    "test_start = '2011-09-01'\n",
    "test_end = '2011-12-31'\n",
    "\n",
    "x = spy_design[train_start: train_end]\n",
    "y = returns_advanced[train_start: train_end]\n",
    "\n",
    "x_test = spy_design[test_start: test_end]\n",
    "y_test = returns_advanced[test_start: test_end]"
   ]
  },
  {
   "cell_type": "code",
   "execution_count": 37,
   "metadata": {
    "collapsed": false
   },
   "outputs": [
    {
     "data": {
      "text/plain": [
       "(65688, 7)"
      ]
     },
     "execution_count": 37,
     "metadata": {},
     "output_type": "execute_result"
    }
   ],
   "source": [
    "x.values.shape"
   ]
  },
  {
   "cell_type": "code",
   "execution_count": 38,
   "metadata": {
    "collapsed": false
   },
   "outputs": [
    {
     "data": {
      "text/plain": [
       "65688"
      ]
     },
     "execution_count": 38,
     "metadata": {},
     "output_type": "execute_result"
    }
   ],
   "source": [
    "len(y.values)"
   ]
  },
  {
   "cell_type": "code",
   "execution_count": 39,
   "metadata": {
    "collapsed": false
   },
   "outputs": [
    {
     "name": "stdout",
     "output_type": "stream",
     "text": [
      "[ 0.30004665  0.18110067  0.13909334  0.13041671  0.11537374  0.09319075\n",
      "  0.04077813]\n"
     ]
    },
    {
     "data": {
      "image/png": "[encoded data removed]",
      "text/plain": [
       "<matplotlib.figure.Figure at 0x11bb0d438>"
      ]
     },
     "metadata": {},
     "output_type": "display_data"
    }
   ],
   "source": [
    "linear = linear_model.LinearRegression()\n",
    "# use linear regression instead\n",
    "\n",
    "pca = decomposition.PCA()\n",
    "pipe = Pipeline(steps=[('pca', pca), ('linear', linear)])\n",
    "\n",
    "pca.fit(x)\n",
    "\n",
    "plt.figure(1, figsize=(4, 3))\n",
    "plt.clf()\n",
    "plt.axes([.2, .2, .7, .7])\n",
    "#plt.plot(pca.explained_variance_, linewidth=2, marker='o')\n",
    "plt.plot(pca.explained_variance_ratio_, linewidth=2, marker='o')\n",
    "plt.axis('tight')\n",
    "plt.xlabel('n_components')\n",
    "plt.ylabel('explained_variance_')\n",
    "print(pca.explained_variance_ratio_)"
   ]
  },
  {
   "cell_type": "code",
   "execution_count": 40,
   "metadata": {
    "collapsed": false
   },
   "outputs": [
    {
     "data": {
      "text/plain": [
       "0.86603111175280933"
      ]
     },
     "execution_count": 40,
     "metadata": {},
     "output_type": "execute_result"
    }
   ],
   "source": [
    "np.sum(pca.explained_variance_ratio_[:5])"
   ]
  },
  {
   "cell_type": "markdown",
   "metadata": {},
   "source": [
    "### pca regression to predict"
   ]
  },
  {
   "cell_type": "code",
   "execution_count": 41,
   "metadata": {
    "collapsed": false,
    "scrolled": true
   },
   "outputs": [
    {
     "name": "stdout",
     "output_type": "stream",
     "text": [
      "number of component: 5\n",
      "score: 0.2935686464337291\n"
     ]
    },
    {
     "data": {
      "image/png": "[encoded data removed]",
      "text/plain": [
       "<matplotlib.figure.Figure at 0x104527390>"
      ]
     },
     "metadata": {},
     "output_type": "display_data"
    }
   ],
   "source": [
    "\n",
    "n_components = [1, 2, 3, 4, 5]\n",
    "#Cs = np.logspace(-4, 4, 3)\n",
    "\n",
    "#Parameters of pipelines can be set using ‘__’ separated parameter names:\n",
    "\n",
    "estimator = GridSearchCV(pipe,\n",
    "                         dict(pca__n_components=n_components))\n",
    "                              #logistic__C=Cs))\n",
    "estimator.fit(x, y)\n",
    "\n",
    "print('number of component: {}'.format(\n",
    "        estimator.best_estimator_.named_steps['pca'].n_components))\n",
    "print('score: {}'.format(estimator.score(x, y)))\n",
    "\n",
    "plt.axvline(estimator.best_estimator_.named_steps['pca'].n_components,\n",
    "            linestyle=':', label='n_components chosen')\n",
    "plt.legend(prop=dict(size=12))\n",
    "plt.show()"
   ]
  },
  {
   "cell_type": "code",
   "execution_count": 51,
   "metadata": {
    "collapsed": false
   },
   "outputs": [
    {
     "data": {
      "text/plain": [
       "[<matplotlib.lines.Line2D at 0x118b20b38>]"
      ]
     },
     "execution_count": 51,
     "metadata": {},
     "output_type": "execute_result"
    },
    {
     "data": {
      "image/png": "[encoded data removed]",
      "text/plain": [
       "<matplotlib.figure.Figure at 0x118a69ef0>"
      ]
     },
     "metadata": {},
     "output_type": "display_data"
    }
   ],
   "source": [
    "y_pca = estimator.predict(x_test)\n",
    "\n",
    "fig, ax = plt.subplots()\n",
    "ax.plot(y_test.values[:100])\n",
    "ax.plot(y_pca[:100])"
   ]
  },
  {
   "cell_type": "code",
   "execution_count": 43,
   "metadata": {
    "collapsed": false
   },
   "outputs": [
    {
     "data": {
      "text/plain": [
       "0.7043480910448215"
      ]
     },
     "execution_count": 43,
     "metadata": {},
     "output_type": "execute_result"
    }
   ],
   "source": [
    "y_total = y_test*y_pca\n",
    "len(y_total[y_total>0])/(len(y_total))"
   ]
  },
  {
   "cell_type": "markdown",
   "metadata": {},
   "source": [
    "### linear regression to predict"
   ]
  },
  {
   "cell_type": "code",
   "execution_count": 44,
   "metadata": {
    "collapsed": false
   },
   "outputs": [
    {
     "name": "stdout",
     "output_type": "stream",
     "text": [
      "Coefficients: \n",
      " [ -5.00832976e-02  -5.99063805e-04   1.60083917e-04   2.91464953e-04\n",
      "   1.50909871e-05   6.52373943e-04   1.03741240e-03]\n",
      "Mean squared error: 0.006508427573128437\n",
      "Variance score: 0.41469490605139825\n"
     ]
    }
   ],
   "source": [
    "regr = linear_model.LinearRegression()\n",
    "regr.fit(x, y)\n",
    "\n",
    "y_lin = regr.predict(x_test)\n",
    "\n",
    "# The coefficients\n",
    "print('Coefficients: \\n', regr.coef_)\n",
    "print('Mean squared error: {}'.format(np.mean((y_lin - y_test) ** 2)))\n",
    "# Explained variance score: 1 is perfect prediction\n",
    "print('Variance score: {}'.format(regr.score(x_test, y_test)))"
   ]
  },
  {
   "cell_type": "code",
   "execution_count": 45,
   "metadata": {
    "collapsed": false
   },
   "outputs": [
    {
     "data": {
      "text/plain": [
       "[<matplotlib.lines.Line2D at 0x11ce2a668>]"
      ]
     },
     "execution_count": 45,
     "metadata": {},
     "output_type": "execute_result"
    },
    {
     "data": {
      "image/png": "[encoded data removed]",
      "text/plain": [
       "<matplotlib.figure.Figure at 0x134529080>"
      ]
     },
     "metadata": {},
     "output_type": "display_data"
    }
   ],
   "source": [
    "fig, ax = plt.subplots()\n",
    "ax.plot(y_test.values[:100])\n",
    "ax.plot(y_lin[:100])"
   ]
  },
  {
   "cell_type": "code",
   "execution_count": 46,
   "metadata": {
    "collapsed": false
   },
   "outputs": [
    {
     "data": {
      "text/plain": [
       "0.7357932904719827"
      ]
     },
     "execution_count": 46,
     "metadata": {},
     "output_type": "execute_result"
    }
   ],
   "source": [
    "y_total = y_test*y_lin\n",
    "len(y_total[y_total>0])/(len(y_total))"
   ]
  },
  {
   "cell_type": "markdown",
   "metadata": {
    "collapsed": true
   },
   "source": [
    "### ridge regression"
   ]
  },
  {
   "cell_type": "code",
   "execution_count": 47,
   "metadata": {
    "collapsed": true
   },
   "outputs": [],
   "source": [
    "reg = linear_model.Ridge(alpha=0.5)\n",
    "reg.fit(x, y)\n",
    "y_reg = reg.predict(x_test)"
   ]
  },
  {
   "cell_type": "code",
   "execution_count": 48,
   "metadata": {
    "collapsed": false
   },
   "outputs": [
    {
     "data": {
      "text/plain": [
       "[<matplotlib.lines.Line2D at 0x134224cf8>]"
      ]
     },
     "execution_count": 48,
     "metadata": {},
     "output_type": "execute_result"
    },
    {
     "data": {
      "image/png": "[encoded data removed]",
      "text/plain": [
       "<matplotlib.figure.Figure at 0x133ccab70>"
      ]
     },
     "metadata": {},
     "output_type": "display_data"
    }
   ],
   "source": [
    "fig, ax = plt.subplots()\n",
    "ax.plot(y_test.values[:100])\n",
    "ax.plot(y_reg[:100])"
   ]
  },
  {
   "cell_type": "code",
   "execution_count": 49,
   "metadata": {
    "collapsed": false
   },
   "outputs": [
    {
     "data": {
      "text/plain": [
       "0.7357932904719827"
      ]
     },
     "execution_count": 49,
     "metadata": {},
     "output_type": "execute_result"
    }
   ],
   "source": [
    "y_total = y_test*y_reg\n",
    "len(y_total[y_total>0])/(len(y_total))"
   ]
  },
  {
   "cell_type": "code",
   "execution_count": null,
   "metadata": {
    "collapsed": true
   },
   "outputs": [],
   "source": []
  }
 ],
 "metadata": {
  "kernelspec": {
   "display_name": "Python 3",
   "language": "python",
   "name": "python3"
  },
  "language_info": {
   "codemirror_mode": {
    "name": "ipython",
    "version": 3
   },
   "file_extension": ".py",
   "mimetype": "text/x-python",
   "name": "python",
   "nbconvert_exporter": "python",
   "pygments_lexer": "ipython3",
   "version": "3.5.2"
  }
 },
 "nbformat": 4,
 "nbformat_minor": 1
}
